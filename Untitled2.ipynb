{
 "cells": [
  {
   "cell_type": "markdown",
   "id": "3104afbb",
   "metadata": {},
   "source": [
    "<h1>Ecommerce Purchase Exercise <h1>\n"
   ]
  },
  {
   "cell_type": "markdown",
   "id": "5257732b",
   "metadata": {},
   "source": [
    "<h3>import pandas and read the cvs file</h3>"
   ]
  },
  {
   "cell_type": "code",
   "execution_count": null,
   "id": "e40f286b",
   "metadata": {},
   "outputs": [],
   "source": [
    " "
   ]
  },
  {
   "cell_type": "markdown",
   "id": "d2aa14f0",
   "metadata": {},
   "source": [
    "<h3>check the head of the dataframe</h3>"
   ]
  },
  {
   "cell_type": "code",
   "execution_count": null,
   "id": "d03abd4b",
   "metadata": {},
   "outputs": [],
   "source": []
  },
  {
   "cell_type": "markdown",
   "id": "e3c78a3a",
   "metadata": {},
   "source": [
    "<h3>how many rows and columns are there</h3>"
   ]
  },
  {
   "cell_type": "code",
   "execution_count": null,
   "id": "4db74f9b",
   "metadata": {},
   "outputs": [],
   "source": []
  }
 ],
 "metadata": {
  "kernelspec": {
   "display_name": "Python 3",
   "language": "python",
   "name": "python3"
  },
  "language_info": {
   "codemirror_mode": {
    "name": "ipython",
    "version": 3
   },
   "file_extension": ".py",
   "mimetype": "text/x-python",
   "name": "python",
   "nbconvert_exporter": "python",
   "pygments_lexer": "ipython3",
   "version": "3.8.8"
  }
 },
 "nbformat": 4,
 "nbformat_minor": 5
}
