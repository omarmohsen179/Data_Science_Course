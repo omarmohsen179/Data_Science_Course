{
 "cells": [
  {
   "cell_type": "markdown",
   "id": "10a8e419",
   "metadata": {},
   "source": [
    "<h1>SF Salaries Exercise</h1>"
   ]
  },
  {
   "cell_type": "markdown",
   "id": "feacd442",
   "metadata": {},
   "source": [
    "<h4>import pandas</h4>"
   ]
  },
  {
   "cell_type": "code",
   "execution_count": null,
   "id": "b9e0e09c",
   "metadata": {},
   "outputs": [],
   "source": [
    "\n",
    "\n"
   ]
  },
  {
   "cell_type": "markdown",
   "id": "319e9031",
   "metadata": {},
   "source": [
    "<h4>Read Salaries.cvs as a dataframe called sal</h4>"
   ]
  },
  {
   "cell_type": "code",
   "execution_count": null,
   "id": "9aea6003",
   "metadata": {},
   "outputs": [],
   "source": []
  },
  {
   "cell_type": "markdown",
   "id": "964e1d34",
   "metadata": {},
   "source": [
    "<h4>check the header of the dataframe</h4>"
   ]
  },
  {
   "cell_type": "code",
   "execution_count": null,
   "id": "f9611b86",
   "metadata": {},
   "outputs": [],
   "source": []
  },
  {
   "cell_type": "markdown",
   "id": "bd1c016b",
   "metadata": {},
   "source": [
    "<h4>Use .info method to find out how many entries there are</h4>"
   ]
  },
  {
   "cell_type": "code",
   "execution_count": null,
   "id": "f5ff5d06",
   "metadata": {},
   "outputs": [],
   "source": []
  },
  {
   "cell_type": "markdown",
   "id": "7fd2a1b6",
   "metadata": {},
   "source": [
    "<h4>what is the average BasePay</h4>"
   ]
  },
  {
   "cell_type": "code",
   "execution_count": null,
   "id": "a756d82a",
   "metadata": {},
   "outputs": [],
   "source": []
  },
  {
   "cell_type": "markdown",
   "id": "082435cb",
   "metadata": {},
   "source": [
    "<h4>what is the highest amount of OvertimePay in the  dataset</h4>"
   ]
  },
  {
   "cell_type": "code",
   "execution_count": null,
   "id": "6a4aa684",
   "metadata": {},
   "outputs": [],
   "source": []
  },
  {
   "cell_type": "markdown",
   "id": "4158ea0d",
   "metadata": {},
   "source": [
    "<h4>what is the jop title of JOSEPH DRISCOLL ? </h4>"
   ]
  },
  {
   "cell_type": "code",
   "execution_count": null,
   "id": "c3f520f7",
   "metadata": {},
   "outputs": [],
   "source": []
  },
  {
   "cell_type": "markdown",
   "id": "a70dde06",
   "metadata": {},
   "source": [
    "<h4>How much does JOSePh Driscoll make (including benefits) </h4>"
   ]
  },
  {
   "cell_type": "code",
   "execution_count": null,
   "id": "c0eb17a3",
   "metadata": {},
   "outputs": [],
   "source": []
  },
  {
   "cell_type": "markdown",
   "id": "9438191a",
   "metadata": {},
   "source": [
    "<h4>what is the highest paid person (including benefits)?</h4>"
   ]
  },
  {
   "cell_type": "code",
   "execution_count": null,
   "id": "42f95286",
   "metadata": {},
   "outputs": [],
   "source": []
  },
  {
   "cell_type": "code",
   "execution_count": null,
   "id": "51d048dd",
   "metadata": {},
   "outputs": [],
   "source": []
  },
  {
   "cell_type": "markdown",
   "id": "8b5028a5",
   "metadata": {},
   "source": [
    "<h4>what was the average (mean) Basepay of all employee per year? (2011- 2014)</h4>"
   ]
  },
  {
   "cell_type": "code",
   "execution_count": null,
   "id": "e6f75132",
   "metadata": {},
   "outputs": [],
   "source": []
  },
  {
   "cell_type": "code",
   "execution_count": null,
   "id": "44bb1380",
   "metadata": {},
   "outputs": [],
   "source": []
  },
  {
   "cell_type": "markdown",
   "id": "906d04c5",
   "metadata": {},
   "source": [
    "<h4>How many unique jop tiltes are there?</h4>"
   ]
  },
  {
   "cell_type": "code",
   "execution_count": null,
   "id": "014cb966",
   "metadata": {},
   "outputs": [],
   "source": []
  },
  {
   "cell_type": "markdown",
   "id": "7ac794fd",
   "metadata": {},
   "source": [
    "<h4>what are the top 5 most commin jobs</h4>"
   ]
  },
  {
   "cell_type": "code",
   "execution_count": null,
   "id": "422ace8b",
   "metadata": {},
   "outputs": [],
   "source": []
  }
 ],
 "metadata": {
  "kernelspec": {
   "display_name": "Python 3",
   "language": "python",
   "name": "python3"
  },
  "language_info": {
   "codemirror_mode": {
    "name": "ipython",
    "version": 3
   },
   "file_extension": ".py",
   "mimetype": "text/x-python",
   "name": "python",
   "nbconvert_exporter": "python",
   "pygments_lexer": "ipython3",
   "version": "3.8.8"
  }
 },
 "nbformat": 4,
 "nbformat_minor": 5
}
